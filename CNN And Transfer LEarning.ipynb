{
 "cells": [
  {
   "cell_type": "markdown",
   "metadata": {},
   "source": [
    "## Creating CNN Using Scratch And Transfer Learning"
   ]
  },
  {
   "cell_type": "markdown",
   "metadata": {},
   "source": [
    "Please download the dataset from the below url"
   ]
  },
  {
   "cell_type": "code",
   "execution_count": 1,
   "metadata": {},
   "outputs": [],
   "source": [
    "# import the libraries as shown below\n",
    "\n",
    "from tensorflow.keras.layers import Input, Lambda, Dense, Flatten,Conv2D\n",
    "from tensorflow.keras.models import Model\n",
    "from tensorflow.keras.applications.vgg19 import VGG19\n",
    "from tensorflow.keras.applications.resnet50 import preprocess_input\n",
    "from tensorflow.keras.preprocessing import image\n",
    "from tensorflow.keras.preprocessing.image import ImageDataGenerator,load_img\n",
    "from tensorflow.keras.models import Sequential\n",
    "import numpy as np\n",
    "from glob import glob\n",
    "import matplotlib.pyplot as plt"
   ]
  },
  {
   "cell_type": "code",
   "execution_count": 2,
   "metadata": {},
   "outputs": [
    {
     "data": {
      "application/javascript": [
       "\n",
       "        if (window._pyforest_update_imports_cell) { window._pyforest_update_imports_cell('import tensorflow as tf'); }\n",
       "    "
      ],
      "text/plain": [
       "<IPython.core.display.Javascript object>"
      ]
     },
     "metadata": {},
     "output_type": "display_data"
    },
    {
     "name": "stdout",
     "output_type": "stream",
     "text": [
      "1.13.1\n"
     ]
    }
   ],
   "source": [
    "print(tf.__version__)"
   ]
  },
  {
   "cell_type": "code",
   "execution_count": 5,
   "metadata": {},
   "outputs": [],
   "source": [
    "# re-size all the images to this\n",
    "IMAGE_SIZE = [224, 224]\n",
    "\n",
    "train_path = 'Dataset/Dataset/Train'\n",
    "valid_path = 'Dataset/Dataset/Test'"
   ]
  },
  {
   "cell_type": "code",
   "execution_count": 4,
   "metadata": {},
   "outputs": [
    {
     "name": "stdout",
     "output_type": "stream",
     "text": [
      "WARNING:tensorflow:From C:\\Users\\sdasgupt\\AppData\\Local\\Continuum\\anaconda3\\lib\\site-packages\\tensorflow\\python\\ops\\resource_variable_ops.py:435: colocate_with (from tensorflow.python.framework.ops) is deprecated and will be removed in a future version.\n",
      "Instructions for updating:\n",
      "Colocations handled automatically by placer.\n",
      "Downloading data from https://github.com/fchollet/deep-learning-models/releases/download/v0.1/vgg19_weights_tf_dim_ordering_tf_kernels_notop.h5\n",
      "80142336/80134624 [==============================] - 144s 2us/step\n"
     ]
    }
   ],
   "source": [
    "# Import the Vgg 16 library as shown below and add preprocessing layer to the front of VGG\n",
    "# Here we will be using imagenet weights\n",
    "\n",
    "mobilnet = VGG19(input_shape=IMAGE_SIZE + [3], weights='imagenet', include_top=False)"
   ]
  },
  {
   "cell_type": "code",
   "execution_count": 6,
   "metadata": {},
   "outputs": [],
   "source": [
    "# don't train existing weights\n",
    "for layer in mobilnet.layers:\n",
    "    layer.trainable = False"
   ]
  },
  {
   "cell_type": "code",
   "execution_count": 7,
   "metadata": {},
   "outputs": [],
   "source": [
    "  # useful for getting number of output classes\n",
    "folders = glob('Dataset/Dataset/Train/*')"
   ]
  },
  {
   "cell_type": "code",
   "execution_count": 8,
   "metadata": {},
   "outputs": [
    {
     "data": {
      "text/plain": [
       "['Dataset/Dataset/Train\\\\Parasite', 'Dataset/Dataset/Train\\\\Uninfected']"
      ]
     },
     "execution_count": 8,
     "metadata": {},
     "output_type": "execute_result"
    }
   ],
   "source": [
    "folders"
   ]
  },
  {
   "cell_type": "code",
   "execution_count": 9,
   "metadata": {},
   "outputs": [],
   "source": [
    "# our layers - you can add more if you want\n",
    "x = Flatten()(mobilnet.output)"
   ]
  },
  {
   "cell_type": "code",
   "execution_count": 10,
   "metadata": {},
   "outputs": [],
   "source": [
    "prediction = Dense(len(folders), activation='softmax')(x)\n",
    "\n",
    "# create a model object\n",
    "model = Model(inputs=mobilnet.input, outputs=prediction)"
   ]
  },
  {
   "cell_type": "code",
   "execution_count": 11,
   "metadata": {},
   "outputs": [
    {
     "name": "stdout",
     "output_type": "stream",
     "text": [
      "_________________________________________________________________\n",
      "Layer (type)                 Output Shape              Param #   \n",
      "=================================================================\n",
      "input_1 (InputLayer)         (None, 224, 224, 3)       0         \n",
      "_________________________________________________________________\n",
      "block1_conv1 (Conv2D)        (None, 224, 224, 64)      1792      \n",
      "_________________________________________________________________\n",
      "block1_conv2 (Conv2D)        (None, 224, 224, 64)      36928     \n",
      "_________________________________________________________________\n",
      "block1_pool (MaxPooling2D)   (None, 112, 112, 64)      0         \n",
      "_________________________________________________________________\n",
      "block2_conv1 (Conv2D)        (None, 112, 112, 128)     73856     \n",
      "_________________________________________________________________\n",
      "block2_conv2 (Conv2D)        (None, 112, 112, 128)     147584    \n",
      "_________________________________________________________________\n",
      "block2_pool (MaxPooling2D)   (None, 56, 56, 128)       0         \n",
      "_________________________________________________________________\n",
      "block3_conv1 (Conv2D)        (None, 56, 56, 256)       295168    \n",
      "_________________________________________________________________\n",
      "block3_conv2 (Conv2D)        (None, 56, 56, 256)       590080    \n",
      "_________________________________________________________________\n",
      "block3_conv3 (Conv2D)        (None, 56, 56, 256)       590080    \n",
      "_________________________________________________________________\n",
      "block3_conv4 (Conv2D)        (None, 56, 56, 256)       590080    \n",
      "_________________________________________________________________\n",
      "block3_pool (MaxPooling2D)   (None, 28, 28, 256)       0         \n",
      "_________________________________________________________________\n",
      "block4_conv1 (Conv2D)        (None, 28, 28, 512)       1180160   \n",
      "_________________________________________________________________\n",
      "block4_conv2 (Conv2D)        (None, 28, 28, 512)       2359808   \n",
      "_________________________________________________________________\n",
      "block4_conv3 (Conv2D)        (None, 28, 28, 512)       2359808   \n",
      "_________________________________________________________________\n",
      "block4_conv4 (Conv2D)        (None, 28, 28, 512)       2359808   \n",
      "_________________________________________________________________\n",
      "block4_pool (MaxPooling2D)   (None, 14, 14, 512)       0         \n",
      "_________________________________________________________________\n",
      "block5_conv1 (Conv2D)        (None, 14, 14, 512)       2359808   \n",
      "_________________________________________________________________\n",
      "block5_conv2 (Conv2D)        (None, 14, 14, 512)       2359808   \n",
      "_________________________________________________________________\n",
      "block5_conv3 (Conv2D)        (None, 14, 14, 512)       2359808   \n",
      "_________________________________________________________________\n",
      "block5_conv4 (Conv2D)        (None, 14, 14, 512)       2359808   \n",
      "_________________________________________________________________\n",
      "block5_pool (MaxPooling2D)   (None, 7, 7, 512)         0         \n",
      "_________________________________________________________________\n",
      "flatten (Flatten)            (None, 25088)             0         \n",
      "_________________________________________________________________\n",
      "dense (Dense)                (None, 2)                 50178     \n",
      "=================================================================\n",
      "Total params: 20,074,562\n",
      "Trainable params: 50,178\n",
      "Non-trainable params: 20,024,384\n",
      "_________________________________________________________________\n"
     ]
    }
   ],
   "source": [
    "# view the structure of the model\n",
    "model.summary()\n"
   ]
  },
  {
   "cell_type": "code",
   "execution_count": 12,
   "metadata": {},
   "outputs": [],
   "source": [
    "from tensorflow.keras.layers import MaxPooling2D"
   ]
  },
  {
   "cell_type": "code",
   "execution_count": 13,
   "metadata": {},
   "outputs": [
    {
     "name": "stdout",
     "output_type": "stream",
     "text": [
      "_________________________________________________________________\n",
      "Layer (type)                 Output Shape              Param #   \n",
      "=================================================================\n",
      "conv2d (Conv2D)              (None, 224, 224, 16)      208       \n",
      "_________________________________________________________________\n",
      "max_pooling2d (MaxPooling2D) (None, 112, 112, 16)      0         \n",
      "_________________________________________________________________\n",
      "conv2d_1 (Conv2D)            (None, 112, 112, 32)      2080      \n",
      "_________________________________________________________________\n",
      "max_pooling2d_1 (MaxPooling2 (None, 56, 56, 32)        0         \n",
      "_________________________________________________________________\n",
      "conv2d_2 (Conv2D)            (None, 56, 56, 64)        8256      \n",
      "_________________________________________________________________\n",
      "max_pooling2d_2 (MaxPooling2 (None, 28, 28, 64)        0         \n",
      "_________________________________________________________________\n",
      "flatten_1 (Flatten)          (None, 50176)             0         \n",
      "_________________________________________________________________\n",
      "dense_1 (Dense)              (None, 500)               25088500  \n",
      "_________________________________________________________________\n",
      "dense_2 (Dense)              (None, 2)                 1002      \n",
      "=================================================================\n",
      "Total params: 25,100,046\n",
      "Trainable params: 25,100,046\n",
      "Non-trainable params: 0\n",
      "_________________________________________________________________\n"
     ]
    }
   ],
   "source": [
    "### Create Model from scratch using CNN\n",
    "model=Sequential()\n",
    "model.add(Conv2D(filters=16,kernel_size=2,padding=\"same\",activation=\"relu\",input_shape=(224,224,3)))\n",
    "model.add(MaxPooling2D(pool_size=2))\n",
    "model.add(Conv2D(filters=32,kernel_size=2,padding=\"same\",activation =\"relu\"))\n",
    "model.add(MaxPooling2D(pool_size=2))\n",
    "model.add(Conv2D(filters=64,kernel_size=2,padding=\"same\",activation=\"relu\"))\n",
    "model.add(MaxPooling2D(pool_size=2))\n",
    "model.add(Flatten())\n",
    "model.add(Dense(500,activation=\"relu\"))\n",
    "model.add(Dense(2,activation=\"softmax\"))\n",
    "model.summary()"
   ]
  },
  {
   "cell_type": "code",
   "execution_count": 14,
   "metadata": {},
   "outputs": [],
   "source": [
    "# tell the model what cost and optimization method to use\n",
    "model.compile(\n",
    "  loss='categorical_crossentropy',\n",
    "  optimizer='adam',\n",
    "  metrics=['accuracy']\n",
    ")"
   ]
  },
  {
   "cell_type": "code",
   "execution_count": 15,
   "metadata": {},
   "outputs": [],
   "source": [
    "# Use the Image Data Generator to import the images from the dataset\n",
    "from tensorflow.keras.preprocessing.image import ImageDataGenerator\n",
    "\n",
    "train_datagen = ImageDataGenerator(rescale = 1./255,\n",
    "                                   shear_range = 0.2,\n",
    "                                   zoom_range = 0.2,\n",
    "                                   horizontal_flip = True)\n",
    "\n",
    "test_datagen = ImageDataGenerator(rescale = 1./255)"
   ]
  },
  {
   "cell_type": "code",
   "execution_count": 16,
   "metadata": {},
   "outputs": [
    {
     "name": "stdout",
     "output_type": "stream",
     "text": [
      "Found 416 images belonging to 2 classes.\n"
     ]
    }
   ],
   "source": [
    "# Make sure you provide the same target size as initialied for the image size\n",
    "training_set = train_datagen.flow_from_directory('Dataset/Dataset/Train',\n",
    "                                                 target_size = (224, 224),\n",
    "                                                 batch_size = 32,\n",
    "                                                 class_mode = 'categorical')"
   ]
  },
  {
   "cell_type": "code",
   "execution_count": 17,
   "metadata": {},
   "outputs": [
    {
     "data": {
      "text/plain": [
       "<keras_preprocessing.image.directory_iterator.DirectoryIterator at 0x20cd8fe5780>"
      ]
     },
     "execution_count": 17,
     "metadata": {},
     "output_type": "execute_result"
    }
   ],
   "source": [
    "training_set"
   ]
  },
  {
   "cell_type": "code",
   "execution_count": 18,
   "metadata": {},
   "outputs": [
    {
     "name": "stdout",
     "output_type": "stream",
     "text": [
      "Found 134 images belonging to 2 classes.\n"
     ]
    }
   ],
   "source": [
    "test_set = test_datagen.flow_from_directory('Dataset/Dataset/Test',\n",
    "                                            target_size = (224, 224),\n",
    "                                            batch_size = 32,\n",
    "                                            class_mode = 'categorical')"
   ]
  },
  {
   "cell_type": "code",
   "execution_count": 20,
   "metadata": {
    "scrolled": true
   },
   "outputs": [
    {
     "name": "stdout",
     "output_type": "stream",
     "text": [
      "WARNING:tensorflow:From C:\\Users\\sdasgupt\\AppData\\Local\\Continuum\\anaconda3\\lib\\site-packages\\tensorflow\\python\\ops\\math_ops.py:3066: to_int32 (from tensorflow.python.ops.math_ops) is deprecated and will be removed in a future version.\n",
      "Instructions for updating:\n",
      "Use tf.cast instead.\n",
      "Epoch 1/50\n",
      "5/5 [==============================] - 2s 390ms/step - loss: 0.8844 - acc: 0.3806\n",
      "13/13 [==============================] - 24s 2s/step - loss: 2.4608 - acc: 0.5216 - val_loss: 0.8844 - val_acc: 0.3806\n",
      "Epoch 2/50\n",
      "5/5 [==============================] - 2s 370ms/step - loss: 0.8585 - acc: 0.3433\n",
      "13/13 [==============================] - 24s 2s/step - loss: 0.6444 - acc: 0.5769 - val_loss: 0.8585 - val_acc: 0.3433\n",
      "Epoch 3/50\n",
      "5/5 [==============================] - 2s 365ms/step - loss: 0.9334 - acc: 0.3657\n",
      "13/13 [==============================] - 24s 2s/step - loss: 0.5600 - acc: 0.6995 - val_loss: 0.9334 - val_acc: 0.3657\n",
      "Epoch 4/50\n",
      "5/5 [==============================] - 2s 339ms/step - loss: 0.9374 - acc: 0.3507\n",
      "13/13 [==============================] - 24s 2s/step - loss: 0.5486 - acc: 0.7212 - val_loss: 0.9374 - val_acc: 0.3507\n",
      "Epoch 5/50\n",
      "5/5 [==============================] - 2s 361ms/step - loss: 0.8752 - acc: 0.4179\n",
      "13/13 [==============================] - 24s 2s/step - loss: 0.4748 - acc: 0.7812 - val_loss: 0.8752 - val_acc: 0.4179\n",
      "Epoch 6/50\n",
      "5/5 [==============================] - 2s 370ms/step - loss: 0.8174 - acc: 0.5448\n",
      "13/13 [==============================] - 23s 2s/step - loss: 0.4249 - acc: 0.7861 - val_loss: 0.8174 - val_acc: 0.5448\n",
      "Epoch 7/50\n",
      "5/5 [==============================] - 2s 441ms/step - loss: 0.6558 - acc: 0.5597\n",
      "13/13 [==============================] - 26s 2s/step - loss: 0.3632 - acc: 0.8341 - val_loss: 0.6558 - val_acc: 0.5597\n",
      "Epoch 8/50\n",
      "5/5 [==============================] - 2s 439ms/step - loss: 0.6948 - acc: 0.6493\n",
      "13/13 [==============================] - 25s 2s/step - loss: 0.3004 - acc: 0.8702 - val_loss: 0.6948 - val_acc: 0.6493\n",
      "Epoch 9/50\n",
      "5/5 [==============================] - 2s 430ms/step - loss: 0.7689 - acc: 0.6045\n",
      "13/13 [==============================] - 25s 2s/step - loss: 0.2593 - acc: 0.8870 - val_loss: 0.7689 - val_acc: 0.6045\n",
      "Epoch 10/50\n",
      "5/5 [==============================] - 2s 447ms/step - loss: 0.6308 - acc: 0.7313\n",
      "13/13 [==============================] - 26s 2s/step - loss: 0.2757 - acc: 0.8918 - val_loss: 0.6308 - val_acc: 0.7313\n",
      "Epoch 11/50\n",
      "5/5 [==============================] - 2s 443ms/step - loss: 0.3664 - acc: 0.8507\n",
      "13/13 [==============================] - 26s 2s/step - loss: 0.2444 - acc: 0.9111 - val_loss: 0.3664 - val_acc: 0.8507\n",
      "Epoch 12/50\n",
      "5/5 [==============================] - 2s 438ms/step - loss: 0.5243 - acc: 0.7687\n",
      "13/13 [==============================] - 26s 2s/step - loss: 0.1806 - acc: 0.9351 - val_loss: 0.5243 - val_acc: 0.7687\n",
      "Epoch 13/50\n",
      "5/5 [==============================] - 2s 433ms/step - loss: 0.4633 - acc: 0.7910\n",
      "13/13 [==============================] - 25s 2s/step - loss: 0.2487 - acc: 0.9087 - val_loss: 0.4633 - val_acc: 0.7910\n",
      "Epoch 14/50\n",
      "5/5 [==============================] - 2s 435ms/step - loss: 0.4715 - acc: 0.8134\n",
      "13/13 [==============================] - 26s 2s/step - loss: 0.1875 - acc: 0.9327 - val_loss: 0.4715 - val_acc: 0.8134\n",
      "Epoch 15/50\n",
      "5/5 [==============================] - 2s 423ms/step - loss: 0.2009 - acc: 0.9030\n",
      "13/13 [==============================] - 25s 2s/step - loss: 0.1523 - acc: 0.9423 - val_loss: 0.2009 - val_acc: 0.9030\n",
      "Epoch 16/50\n",
      "5/5 [==============================] - 2s 447ms/step - loss: 0.2526 - acc: 0.9030\n",
      "13/13 [==============================] - 25s 2s/step - loss: 0.1741 - acc: 0.9543 - val_loss: 0.2526 - val_acc: 0.9030\n",
      "Epoch 17/50\n",
      "5/5 [==============================] - 2s 442ms/step - loss: 0.3008 - acc: 0.8731\n",
      "13/13 [==============================] - 25s 2s/step - loss: 0.1423 - acc: 0.9567 - val_loss: 0.3008 - val_acc: 0.8731\n",
      "Epoch 18/50\n",
      "5/5 [==============================] - 2s 440ms/step - loss: 0.2239 - acc: 0.9030\n",
      "13/13 [==============================] - 25s 2s/step - loss: 0.0962 - acc: 0.9688 - val_loss: 0.2239 - val_acc: 0.9030\n",
      "Epoch 19/50\n",
      "5/5 [==============================] - 2s 437ms/step - loss: 0.2873 - acc: 0.8358\n",
      "13/13 [==============================] - 25s 2s/step - loss: 0.1082 - acc: 0.9615 - val_loss: 0.2873 - val_acc: 0.8358\n",
      "Epoch 20/50\n",
      "5/5 [==============================] - 2s 416ms/step - loss: 0.2415 - acc: 0.8881\n",
      "13/13 [==============================] - 25s 2s/step - loss: 0.0866 - acc: 0.9856 - val_loss: 0.2415 - val_acc: 0.8881\n",
      "Epoch 21/50\n",
      "5/5 [==============================] - 2s 430ms/step - loss: 0.4860 - acc: 0.8284\n",
      "13/13 [==============================] - 25s 2s/step - loss: 0.0768 - acc: 0.9784 - val_loss: 0.4860 - val_acc: 0.8284\n",
      "Epoch 22/50\n",
      "5/5 [==============================] - 2s 441ms/step - loss: 0.1990 - acc: 0.9179\n",
      "13/13 [==============================] - 25s 2s/step - loss: 0.0833 - acc: 0.9760 - val_loss: 0.1990 - val_acc: 0.9179\n",
      "Epoch 23/50\n",
      "5/5 [==============================] - 2s 441ms/step - loss: 0.1527 - acc: 0.9328\n",
      "13/13 [==============================] - 25s 2s/step - loss: 0.0545 - acc: 0.9880 - val_loss: 0.1527 - val_acc: 0.9328\n",
      "Epoch 24/50\n",
      "5/5 [==============================] - 2s 439ms/step - loss: 0.1988 - acc: 0.8955\n",
      "13/13 [==============================] - 25s 2s/step - loss: 0.0591 - acc: 0.9856 - val_loss: 0.1988 - val_acc: 0.8955\n",
      "Epoch 25/50\n",
      "5/5 [==============================] - 2s 437ms/step - loss: 0.1422 - acc: 0.9254\n",
      "13/13 [==============================] - 25s 2s/step - loss: 0.0693 - acc: 0.9808 - val_loss: 0.1422 - val_acc: 0.9254\n",
      "Epoch 26/50\n",
      "5/5 [==============================] - 2s 443ms/step - loss: 0.1708 - acc: 0.9104\n",
      "13/13 [==============================] - 25s 2s/step - loss: 0.0712 - acc: 0.9760 - val_loss: 0.1708 - val_acc: 0.9104\n",
      "Epoch 27/50\n",
      "5/5 [==============================] - 2s 430ms/step - loss: 0.1342 - acc: 0.9328\n",
      "13/13 [==============================] - 25s 2s/step - loss: 0.0472 - acc: 0.9880 - val_loss: 0.1342 - val_acc: 0.9328\n",
      "Epoch 28/50\n",
      "5/5 [==============================] - 2s 446ms/step - loss: 0.2284 - acc: 0.8881\n",
      "13/13 [==============================] - 25s 2s/step - loss: 0.0486 - acc: 0.9856 - val_loss: 0.2284 - val_acc: 0.8881\n",
      "Epoch 29/50\n",
      "5/5 [==============================] - 2s 453ms/step - loss: 0.1711 - acc: 0.9478\n",
      "13/13 [==============================] - 25s 2s/step - loss: 0.0810 - acc: 0.9808 - val_loss: 0.1711 - val_acc: 0.9478\n",
      "Epoch 30/50\n",
      "5/5 [==============================] - 2s 442ms/step - loss: 0.4413 - acc: 0.8507\n",
      "13/13 [==============================] - 25s 2s/step - loss: 0.0693 - acc: 0.9856 - val_loss: 0.4413 - val_acc: 0.8507\n",
      "Epoch 31/50\n",
      "5/5 [==============================] - 2s 437ms/step - loss: 0.2165 - acc: 0.9104\n",
      "13/13 [==============================] - 25s 2s/step - loss: 0.0727 - acc: 0.9832 - val_loss: 0.2165 - val_acc: 0.9104\n",
      "Epoch 32/50\n",
      "5/5 [==============================] - 2s 444ms/step - loss: 0.3742 - acc: 0.8582\n",
      "13/13 [==============================] - 25s 2s/step - loss: 0.0552 - acc: 0.9832 - val_loss: 0.3742 - val_acc: 0.8582\n",
      "Epoch 33/50\n",
      "5/5 [==============================] - 2s 440ms/step - loss: 0.2828 - acc: 0.8731\n",
      "13/13 [==============================] - 25s 2s/step - loss: 0.1023 - acc: 0.9543 - val_loss: 0.2828 - val_acc: 0.8731\n",
      "Epoch 34/50\n",
      "5/5 [==============================] - 2s 444ms/step - loss: 0.6210 - acc: 0.8358\n",
      "13/13 [==============================] - 25s 2s/step - loss: 0.0775 - acc: 0.9760 - val_loss: 0.6210 - val_acc: 0.8358\n",
      "Epoch 35/50\n",
      "5/5 [==============================] - 2s 438ms/step - loss: 0.3168 - acc: 0.8806\n",
      "13/13 [==============================] - 25s 2s/step - loss: 0.0995 - acc: 0.9663 - val_loss: 0.3168 - val_acc: 0.8806\n",
      "Epoch 36/50\n",
      "5/5 [==============================] - 2s 438ms/step - loss: 0.3317 - acc: 0.8955\n",
      "13/13 [==============================] - 25s 2s/step - loss: 0.0520 - acc: 0.9904 - val_loss: 0.3317 - val_acc: 0.8955\n",
      "Epoch 37/50\n",
      "5/5 [==============================] - 2s 436ms/step - loss: 0.1953 - acc: 0.9104\n",
      "13/13 [==============================] - 25s 2s/step - loss: 0.0470 - acc: 0.9832 - val_loss: 0.1953 - val_acc: 0.9104\n",
      "Epoch 38/50\n"
     ]
    },
    {
     "name": "stdout",
     "output_type": "stream",
     "text": [
      "5/5 [==============================] - 2s 453ms/step - loss: 0.3507 - acc: 0.8806\n",
      "13/13 [==============================] - 25s 2s/step - loss: 0.0532 - acc: 0.9832 - val_loss: 0.3507 - val_acc: 0.8806\n",
      "Epoch 39/50\n",
      "5/5 [==============================] - 2s 438ms/step - loss: 0.2137 - acc: 0.9030\n",
      "13/13 [==============================] - 25s 2s/step - loss: 0.0427 - acc: 0.9880 - val_loss: 0.2137 - val_acc: 0.9030\n",
      "Epoch 40/50\n",
      "5/5 [==============================] - 2s 456ms/step - loss: 0.2540 - acc: 0.9030\n",
      "13/13 [==============================] - 25s 2s/step - loss: 0.0282 - acc: 0.9928 - val_loss: 0.2540 - val_acc: 0.9030\n",
      "Epoch 41/50\n",
      "5/5 [==============================] - 2s 432ms/step - loss: 0.4055 - acc: 0.9030\n",
      "13/13 [==============================] - 25s 2s/step - loss: 0.0301 - acc: 0.9928 - val_loss: 0.4055 - val_acc: 0.9030\n",
      "Epoch 42/50\n",
      "5/5 [==============================] - 2s 440ms/step - loss: 0.1666 - acc: 0.9104\n",
      "13/13 [==============================] - 25s 2s/step - loss: 0.0192 - acc: 0.9952 - val_loss: 0.1666 - val_acc: 0.9104\n",
      "Epoch 43/50\n",
      "5/5 [==============================] - 2s 431ms/step - loss: 0.2562 - acc: 0.8955\n",
      "13/13 [==============================] - 25s 2s/step - loss: 0.0152 - acc: 0.9976 - val_loss: 0.2562 - val_acc: 0.8955\n",
      "Epoch 44/50\n",
      "5/5 [==============================] - 2s 347ms/step - loss: 0.1220 - acc: 0.9478\n",
      "13/13 [==============================] - 873s 67s/step - loss: 0.0308 - acc: 0.9880 - val_loss: 0.1220 - val_acc: 0.9478\n",
      "Epoch 45/50\n",
      "5/5 [==============================] - 1s 259ms/step - loss: 1.0519 - acc: 0.7239\n",
      "13/13 [==============================] - 18s 1s/step - loss: 0.1541 - acc: 0.9808 - val_loss: 1.0519 - val_acc: 0.7239\n",
      "Epoch 46/50\n",
      "5/5 [==============================] - 1s 267ms/step - loss: 0.8178 - acc: 0.5896\n",
      "13/13 [==============================] - 18s 1s/step - loss: 0.3369 - acc: 0.8558 - val_loss: 0.8178 - val_acc: 0.5896\n",
      "Epoch 47/50\n",
      "5/5 [==============================] - 1s 248ms/step - loss: 0.5542 - acc: 0.7164\n",
      "13/13 [==============================] - 18s 1s/step - loss: 0.3212 - acc: 0.8486 - val_loss: 0.5542 - val_acc: 0.7164\n",
      "Epoch 48/50\n",
      "5/5 [==============================] - 1s 252ms/step - loss: 0.5603 - acc: 0.7687\n",
      "13/13 [==============================] - 16s 1s/step - loss: 0.2244 - acc: 0.9062 - val_loss: 0.5603 - val_acc: 0.7687\n",
      "Epoch 49/50\n",
      "5/5 [==============================] - 2s 431ms/step - loss: 0.3278 - acc: 0.8433\n",
      "13/13 [==============================] - 21s 2s/step - loss: 0.1641 - acc: 0.9375 - val_loss: 0.3278 - val_acc: 0.8433\n",
      "Epoch 50/50\n",
      "5/5 [==============================] - 2s 430ms/step - loss: 0.2704 - acc: 0.8955\n",
      "13/13 [==============================] - 26s 2s/step - loss: 0.1130 - acc: 0.9471 - val_loss: 0.2704 - val_acc: 0.8955\n"
     ]
    }
   ],
   "source": [
    "# fit the model\n",
    "# Run the cell. It will take some time to execute\n",
    "r = model.fit_generator(\n",
    "  training_set,\n",
    "  validation_data=test_set,\n",
    "  epochs=50,\n",
    "  steps_per_epoch=len(training_set),\n",
    "  validation_steps=len(test_set)\n",
    ")"
   ]
  },
  {
   "cell_type": "code",
   "execution_count": 22,
   "metadata": {},
   "outputs": [
    {
     "data": {
      "text/plain": [
       "{'loss': [2.4608249159959645,\n",
       "  0.6443572961367093,\n",
       "  0.5600463289480943,\n",
       "  0.5486189493766198,\n",
       "  0.47483264253689694,\n",
       "  0.4248655346723703,\n",
       "  0.36324501496094924,\n",
       "  0.3003778469104033,\n",
       "  0.25928702033483064,\n",
       "  0.2756868428908862,\n",
       "  0.24437236785888672,\n",
       "  0.1805676479752247,\n",
       "  0.2486733324252642,\n",
       "  0.1874674799350592,\n",
       "  0.1522777149310479,\n",
       "  0.1740957936988427,\n",
       "  0.14231084287166595,\n",
       "  0.09624919538887647,\n",
       "  0.10819493628178652,\n",
       "  0.08659641459011115,\n",
       "  0.07676651013585237,\n",
       "  0.0833340734243393,\n",
       "  0.05453442380978511,\n",
       "  0.059136636196993865,\n",
       "  0.0692543930445726,\n",
       "  0.07115626105895409,\n",
       "  0.04716404197880855,\n",
       "  0.04858677812780325,\n",
       "  0.08102192923140067,\n",
       "  0.06927773700310634,\n",
       "  0.07271240708919671,\n",
       "  0.055179990720576964,\n",
       "  0.10233196100363365,\n",
       "  0.077502967001727,\n",
       "  0.09947646738818058,\n",
       "  0.05200137749600869,\n",
       "  0.04701669535671289,\n",
       "  0.05316075095190452,\n",
       "  0.042705896453788646,\n",
       "  0.028155109343620446,\n",
       "  0.030140442988620356,\n",
       "  0.019208577891381886,\n",
       "  0.015219601336866617,\n",
       "  0.03084050461005133,\n",
       "  0.1541023632296576,\n",
       "  0.3369477414167844,\n",
       "  0.3211533794036278,\n",
       "  0.22441227963337532,\n",
       "  0.16405797405884817,\n",
       "  0.11299294204666065],\n",
       " 'acc': [0.52163464,\n",
       "  0.5769231,\n",
       "  0.6995192,\n",
       "  0.72115386,\n",
       "  0.78125,\n",
       "  0.7860577,\n",
       "  0.83413464,\n",
       "  0.8701923,\n",
       "  0.8870192,\n",
       "  0.8918269,\n",
       "  0.9110577,\n",
       "  0.93509614,\n",
       "  0.90865386,\n",
       "  0.9326923,\n",
       "  0.9423077,\n",
       "  0.9543269,\n",
       "  0.9567308,\n",
       "  0.96875,\n",
       "  0.96153843,\n",
       "  0.9855769,\n",
       "  0.97836536,\n",
       "  0.97596157,\n",
       "  0.9879808,\n",
       "  0.9855769,\n",
       "  0.9807692,\n",
       "  0.97596157,\n",
       "  0.9879808,\n",
       "  0.9855769,\n",
       "  0.9807692,\n",
       "  0.9855769,\n",
       "  0.9831731,\n",
       "  0.9831731,\n",
       "  0.9543269,\n",
       "  0.97596157,\n",
       "  0.96634614,\n",
       "  0.99038464,\n",
       "  0.9831731,\n",
       "  0.9831731,\n",
       "  0.9879808,\n",
       "  0.99278843,\n",
       "  0.99278843,\n",
       "  0.9951923,\n",
       "  0.99759614,\n",
       "  0.9879808,\n",
       "  0.9807692,\n",
       "  0.8557692,\n",
       "  0.8485577,\n",
       "  0.90625,\n",
       "  0.9375,\n",
       "  0.94711536],\n",
       " 'val_loss': [0.8844303846359253,\n",
       "  0.8584683895111084,\n",
       "  0.9334133863449097,\n",
       "  0.9374389052391052,\n",
       "  0.8751546978950501,\n",
       "  0.8174178004264832,\n",
       "  0.6558308064937591,\n",
       "  0.6947675943374634,\n",
       "  0.7688936352729797,\n",
       "  0.630754292011261,\n",
       "  0.366392382979393,\n",
       "  0.5243162989616394,\n",
       "  0.46331398487091063,\n",
       "  0.47149675488471987,\n",
       "  0.20093025714159013,\n",
       "  0.252627769112587,\n",
       "  0.3007506027817726,\n",
       "  0.2238970145583153,\n",
       "  0.28734151981770994,\n",
       "  0.24146611541509627,\n",
       "  0.4860146164894104,\n",
       "  0.19896195083856583,\n",
       "  0.1527037151157856,\n",
       "  0.1988110475242138,\n",
       "  0.14224395006895066,\n",
       "  0.1708255037665367,\n",
       "  0.1341638395562768,\n",
       "  0.2283548057079315,\n",
       "  0.17111538499593734,\n",
       "  0.44132880717515943,\n",
       "  0.21649901559576393,\n",
       "  0.3741826866287738,\n",
       "  0.2827986001968384,\n",
       "  0.621013629436493,\n",
       "  0.31680154204368594,\n",
       "  0.33174327462911607,\n",
       "  0.19529392570257187,\n",
       "  0.35070334523916247,\n",
       "  0.21368398293852806,\n",
       "  0.2539515469223261,\n",
       "  0.40554441809654235,\n",
       "  0.16663526748889126,\n",
       "  0.25620540529489516,\n",
       "  0.1220082484651357,\n",
       "  1.0519005537033081,\n",
       "  0.8178009510040283,\n",
       "  0.5542079210281372,\n",
       "  0.5603454411029816,\n",
       "  0.32775487303733825,\n",
       "  0.2703841105103493],\n",
       " 'val_acc': [0.38059703,\n",
       "  0.3432836,\n",
       "  0.36567163,\n",
       "  0.35074627,\n",
       "  0.41791046,\n",
       "  0.54477614,\n",
       "  0.5597015,\n",
       "  0.6492537,\n",
       "  0.6044776,\n",
       "  0.73134327,\n",
       "  0.8507463,\n",
       "  0.76865673,\n",
       "  0.7910448,\n",
       "  0.8134328,\n",
       "  0.9029851,\n",
       "  0.9029851,\n",
       "  0.8731343,\n",
       "  0.9029851,\n",
       "  0.8358209,\n",
       "  0.8880597,\n",
       "  0.82835823,\n",
       "  0.91791046,\n",
       "  0.9328358,\n",
       "  0.8955224,\n",
       "  0.92537314,\n",
       "  0.9104478,\n",
       "  0.9328358,\n",
       "  0.8880597,\n",
       "  0.9477612,\n",
       "  0.8507463,\n",
       "  0.9104478,\n",
       "  0.85820895,\n",
       "  0.8731343,\n",
       "  0.8358209,\n",
       "  0.880597,\n",
       "  0.8955224,\n",
       "  0.9104478,\n",
       "  0.880597,\n",
       "  0.9029851,\n",
       "  0.9029851,\n",
       "  0.9029851,\n",
       "  0.9104478,\n",
       "  0.8955224,\n",
       "  0.9477612,\n",
       "  0.7238806,\n",
       "  0.5895522,\n",
       "  0.7164179,\n",
       "  0.76865673,\n",
       "  0.8432836,\n",
       "  0.8955224]}"
      ]
     },
     "execution_count": 22,
     "metadata": {},
     "output_type": "execute_result"
    }
   ],
   "source": [
    "r.history"
   ]
  },
  {
   "cell_type": "code",
   "execution_count": 24,
   "metadata": {},
   "outputs": [
    {
     "data": {
      "image/png": "[encoded data removed]",
      "text/plain": [
       "<Figure size 432x288 with 1 Axes>"
      ]
     },
     "metadata": {
      "needs_background": "light"
     },
     "output_type": "display_data"
    },
    {
     "data": {
      "image/png": "[encoded data removed]",
      "text/plain": [
       "<Figure size 432x288 with 1 Axes>"
      ]
     },
     "metadata": {
      "needs_background": "light"
     },
     "output_type": "display_data"
    },
    {
     "data": {
      "text/plain": [
       "<Figure size 432x288 with 0 Axes>"
      ]
     },
     "metadata": {},
     "output_type": "display_data"
    }
   ],
   "source": [
    "# plot the loss\n",
    "plt.plot(r.history['loss'], label='train loss')\n",
    "plt.plot(r.history['val_loss'], label='val loss')\n",
    "plt.legend()\n",
    "plt.show()\n",
    "plt.savefig('LossVal_loss')\n",
    "\n",
    "# plot the accuracy\n",
    "plt.plot(r.history['acc'], label='train acc')\n",
    "plt.plot(r.history['val_acc'], label='val acc')\n",
    "plt.legend()\n",
    "plt.show()\n",
    "plt.savefig('AccVal_acc')"
   ]
  },
  {
   "cell_type": "code",
   "execution_count": 25,
   "metadata": {},
   "outputs": [],
   "source": [
    "# save it as a h5 file\n",
    "\n",
    "from tensorflow.keras.models import load_model\n",
    "model.save('model_vgg19.h5')"
   ]
  },
  {
   "cell_type": "code",
   "execution_count": null,
   "metadata": {},
   "outputs": [],
   "source": []
  },
  {
   "cell_type": "code",
   "execution_count": 26,
   "metadata": {},
   "outputs": [],
   "source": [
    "\n",
    "y_pred = model.predict(test_set)\n"
   ]
  },
  {
   "cell_type": "code",
   "execution_count": 27,
   "metadata": {},
   "outputs": [
    {
     "data": {
      "text/plain": [
       "array([[9.99740899e-01, 2.59093533e-04],\n",
       "       [6.28098175e-02, 9.37190115e-01],\n",
       "       [1.34425610e-01, 8.65574300e-01],\n",
       "       [5.91314852e-01, 4.08685118e-01],\n",
       "       [2.94730794e-02, 9.70526934e-01],\n",
       "       [5.61164729e-02, 9.43883538e-01],\n",
       "       [3.72117087e-02, 9.62788284e-01],\n",
       "       [9.41813469e-01, 5.81865236e-02],\n",
       "       [1.00000000e+00, 1.16722512e-14],\n",
       "       [3.35199125e-02, 9.66480017e-01],\n",
       "       [9.99999881e-01, 1.03797291e-07],\n",
       "       [1.00000000e+00, 1.93521768e-10],\n",
       "       [1.48544043e-01, 8.51455986e-01],\n",
       "       [3.92002910e-02, 9.60799754e-01],\n",
       "       [9.99988079e-01, 1.19042061e-05],\n",
       "       [9.29944277e-01, 7.00557008e-02],\n",
       "       [4.41945568e-02, 9.55805421e-01],\n",
       "       [2.56971363e-02, 9.74302828e-01],\n",
       "       [9.99507785e-01, 4.92223189e-04],\n",
       "       [4.04881313e-02, 9.59511817e-01],\n",
       "       [3.37226014e-03, 9.96627748e-01],\n",
       "       [1.38558466e-02, 9.86144185e-01],\n",
       "       [1.00000000e+00, 9.26773325e-09],\n",
       "       [1.27787635e-01, 8.72212350e-01],\n",
       "       [6.42252294e-03, 9.93577540e-01],\n",
       "       [9.99999881e-01, 1.45236044e-07],\n",
       "       [9.99908447e-01, 9.16009376e-05],\n",
       "       [2.22252347e-02, 9.77774739e-01],\n",
       "       [1.00000000e+00, 1.54623758e-09],\n",
       "       [9.99972939e-01, 2.70467754e-05],\n",
       "       [9.99999881e-01, 7.71241275e-08],\n",
       "       [2.17192527e-02, 9.78280783e-01],\n",
       "       [9.97587323e-01, 2.41268007e-03],\n",
       "       [1.00000000e+00, 4.67307269e-11],\n",
       "       [9.99987245e-01, 1.27207350e-05],\n",
       "       [1.00000000e+00, 5.66906466e-10],\n",
       "       [3.40443775e-02, 9.65955615e-01],\n",
       "       [9.92868960e-01, 7.13102380e-03],\n",
       "       [1.77150369e-02, 9.82285023e-01],\n",
       "       [3.47006470e-01, 6.52993500e-01],\n",
       "       [5.79896122e-02, 9.42010343e-01],\n",
       "       [9.99999881e-01, 1.02586455e-07],\n",
       "       [3.23253162e-02, 9.67674673e-01],\n",
       "       [4.05230433e-01, 5.94769537e-01],\n",
       "       [6.67327464e-01, 3.32672536e-01],\n",
       "       [1.00000000e+00, 1.20450931e-17],\n",
       "       [9.99999642e-01, 3.85097934e-07],\n",
       "       [9.99902964e-01, 9.70104447e-05],\n",
       "       [2.51448452e-02, 9.74855125e-01],\n",
       "       [3.48385602e-01, 6.51614308e-01],\n",
       "       [1.00000000e+00, 2.17867252e-10],\n",
       "       [9.99219179e-01, 7.80754955e-04],\n",
       "       [2.67697405e-02, 9.73230243e-01],\n",
       "       [9.94611979e-01, 5.38805453e-03],\n",
       "       [9.99994516e-01, 5.49560173e-06],\n",
       "       [1.00000000e+00, 3.87015326e-08],\n",
       "       [9.99999881e-01, 8.21561628e-08],\n",
       "       [9.99840498e-01, 1.59519157e-04],\n",
       "       [1.00000000e+00, 6.45014153e-10],\n",
       "       [9.99249876e-01, 7.50054780e-04],\n",
       "       [5.10919571e-01, 4.89080340e-01],\n",
       "       [1.19173406e-02, 9.88082647e-01],\n",
       "       [9.98497844e-01, 1.50215032e-03],\n",
       "       [9.57939267e-01, 4.20607887e-02],\n",
       "       [7.05051646e-02, 9.29494798e-01],\n",
       "       [2.52853613e-02, 9.74714696e-01],\n",
       "       [9.32967216e-02, 9.06703234e-01],\n",
       "       [9.99994755e-01, 5.26552458e-06],\n",
       "       [9.99858141e-01, 1.41874480e-04],\n",
       "       [5.07283747e-01, 4.92716312e-01],\n",
       "       [9.96639013e-01, 3.36092617e-03],\n",
       "       [9.99884129e-01, 1.15882649e-04],\n",
       "       [1.92208383e-02, 9.80779171e-01],\n",
       "       [1.09936178e-01, 8.90063882e-01],\n",
       "       [9.99999881e-01, 6.69738895e-08],\n",
       "       [4.08817269e-03, 9.95911837e-01],\n",
       "       [9.99983907e-01, 1.61234730e-05],\n",
       "       [9.99638796e-01, 3.61233455e-04],\n",
       "       [9.99953985e-01, 4.60663359e-05],\n",
       "       [1.00000000e+00, 5.46694937e-19],\n",
       "       [6.07357454e-03, 9.93926466e-01],\n",
       "       [9.99978304e-01, 2.16362350e-05],\n",
       "       [3.09422128e-02, 9.69057798e-01],\n",
       "       [9.99999285e-01, 6.87885347e-07],\n",
       "       [9.99082685e-01, 9.17341036e-04],\n",
       "       [8.29708204e-03, 9.91702974e-01],\n",
       "       [3.26211512e-01, 6.73788548e-01],\n",
       "       [1.00000000e+00, 1.79814996e-10],\n",
       "       [9.98433411e-01, 1.56652997e-03],\n",
       "       [3.71397510e-02, 9.62860227e-01],\n",
       "       [9.99310851e-01, 6.89194072e-04],\n",
       "       [8.02657083e-02, 9.19734299e-01],\n",
       "       [6.66657165e-02, 9.33334291e-01],\n",
       "       [9.99996543e-01, 3.46952515e-06],\n",
       "       [9.99959469e-01, 4.05551109e-05],\n",
       "       [9.99997258e-01, 2.78641369e-06],\n",
       "       [3.99601966e-01, 6.00398004e-01],\n",
       "       [9.99993205e-01, 6.79418281e-06],\n",
       "       [9.99815762e-01, 1.84204211e-04],\n",
       "       [1.00000000e+00, 1.79256471e-10],\n",
       "       [9.71022069e-01, 2.89780032e-02],\n",
       "       [9.88261759e-01, 1.17382705e-02],\n",
       "       [8.28013420e-02, 9.17198658e-01],\n",
       "       [8.43993366e-01, 1.56006604e-01],\n",
       "       [9.99999046e-01, 9.98151449e-07],\n",
       "       [3.18248458e-02, 9.68175113e-01],\n",
       "       [1.54840965e-02, 9.84515905e-01],\n",
       "       [2.60422558e-01, 7.39577413e-01],\n",
       "       [9.99998212e-01, 1.75364903e-06],\n",
       "       [9.99767959e-01, 2.32046543e-04],\n",
       "       [9.99998569e-01, 1.40118152e-06],\n",
       "       [9.99258816e-01, 7.41228636e-04],\n",
       "       [8.64529759e-02, 9.13547039e-01],\n",
       "       [3.46692204e-02, 9.65330839e-01],\n",
       "       [9.97942150e-01, 2.05788459e-03],\n",
       "       [2.91448683e-02, 9.70855176e-01],\n",
       "       [2.18906224e-01, 7.81093776e-01],\n",
       "       [9.99124706e-01, 8.75301310e-04],\n",
       "       [9.99763548e-01, 2.36499487e-04],\n",
       "       [9.90606666e-01, 9.39333066e-03],\n",
       "       [5.05539365e-02, 9.49446082e-01],\n",
       "       [9.99913931e-01, 8.61051158e-05],\n",
       "       [6.98397607e-02, 9.30160224e-01],\n",
       "       [2.40741074e-02, 9.75925863e-01],\n",
       "       [2.30467692e-01, 7.69532323e-01],\n",
       "       [9.98925626e-01, 1.07436604e-03],\n",
       "       [5.92420883e-02, 9.40757990e-01],\n",
       "       [1.00000000e+00, 8.78647918e-11],\n",
       "       [9.98098910e-01, 1.90114009e-03],\n",
       "       [9.99892712e-01, 1.07299420e-04],\n",
       "       [8.26424435e-02, 9.17357504e-01],\n",
       "       [2.95199603e-02, 9.70480025e-01],\n",
       "       [1.00000000e+00, 1.93792313e-12],\n",
       "       [2.08183117e-02, 9.79181647e-01]], dtype=float32)"
      ]
     },
     "execution_count": 27,
     "metadata": {},
     "output_type": "execute_result"
    }
   ],
   "source": [
    "y_pred"
   ]
  },
  {
   "cell_type": "code",
   "execution_count": 28,
   "metadata": {},
   "outputs": [],
   "source": [
    "import numpy as np\n",
    "y_pred = np.argmax(y_pred, axis=1)"
   ]
  },
  {
   "cell_type": "code",
   "execution_count": 29,
   "metadata": {},
   "outputs": [
    {
     "data": {
      "text/plain": [
       "array([0, 1, 1, 0, 1, 1, 1, 0, 0, 1, 0, 0, 1, 1, 0, 0, 1, 1, 0, 1, 1, 1,\n",
       "       0, 1, 1, 0, 0, 1, 0, 0, 0, 1, 0, 0, 0, 0, 1, 0, 1, 1, 1, 0, 1, 1,\n",
       "       0, 0, 0, 0, 1, 1, 0, 0, 1, 0, 0, 0, 0, 0, 0, 0, 0, 1, 0, 0, 1, 1,\n",
       "       1, 0, 0, 0, 0, 0, 1, 1, 0, 1, 0, 0, 0, 0, 1, 0, 1, 0, 0, 1, 1, 0,\n",
       "       0, 1, 0, 1, 1, 0, 0, 0, 1, 0, 0, 0, 0, 0, 1, 0, 0, 1, 1, 1, 0, 0,\n",
       "       0, 0, 1, 1, 0, 1, 1, 0, 0, 0, 1, 0, 1, 1, 1, 0, 1, 0, 0, 0, 1, 1,\n",
       "       0, 1], dtype=int64)"
      ]
     },
     "execution_count": 29,
     "metadata": {},
     "output_type": "execute_result"
    }
   ],
   "source": [
    "y_pred"
   ]
  },
  {
   "cell_type": "code",
   "execution_count": null,
   "metadata": {},
   "outputs": [],
   "source": []
  },
  {
   "cell_type": "code",
   "execution_count": 30,
   "metadata": {},
   "outputs": [],
   "source": [
    "from tensorflow.keras.models import load_model\n",
    "from tensorflow.keras.preprocessing import image"
   ]
  },
  {
   "cell_type": "code",
   "execution_count": 31,
   "metadata": {},
   "outputs": [],
   "source": [
    "model=load_model('model_vgg19.h5')"
   ]
  },
  {
   "cell_type": "code",
   "execution_count": null,
   "metadata": {},
   "outputs": [],
   "source": []
  },
  {
   "cell_type": "code",
   "execution_count": 33,
   "metadata": {},
   "outputs": [],
   "source": [
    "img=image.load_img('Dataset/Dataset/Test/Uninfected/2.png',target_size=(224,224))\n",
    "\n"
   ]
  },
  {
   "cell_type": "code",
   "execution_count": 34,
   "metadata": {},
   "outputs": [
    {
     "data": {
      "text/plain": [
       "array([[[0., 0., 0.],\n",
       "        [0., 0., 0.],\n",
       "        [0., 0., 0.],\n",
       "        ...,\n",
       "        [0., 0., 0.],\n",
       "        [0., 0., 0.],\n",
       "        [0., 0., 0.]],\n",
       "\n",
       "       [[0., 0., 0.],\n",
       "        [0., 0., 0.],\n",
       "        [0., 0., 0.],\n",
       "        ...,\n",
       "        [0., 0., 0.],\n",
       "        [0., 0., 0.],\n",
       "        [0., 0., 0.]],\n",
       "\n",
       "       [[0., 0., 0.],\n",
       "        [0., 0., 0.],\n",
       "        [0., 0., 0.],\n",
       "        ...,\n",
       "        [0., 0., 0.],\n",
       "        [0., 0., 0.],\n",
       "        [0., 0., 0.]],\n",
       "\n",
       "       ...,\n",
       "\n",
       "       [[0., 0., 0.],\n",
       "        [0., 0., 0.],\n",
       "        [0., 0., 0.],\n",
       "        ...,\n",
       "        [0., 0., 0.],\n",
       "        [0., 0., 0.],\n",
       "        [0., 0., 0.]],\n",
       "\n",
       "       [[0., 0., 0.],\n",
       "        [0., 0., 0.],\n",
       "        [0., 0., 0.],\n",
       "        ...,\n",
       "        [0., 0., 0.],\n",
       "        [0., 0., 0.],\n",
       "        [0., 0., 0.]],\n",
       "\n",
       "       [[0., 0., 0.],\n",
       "        [0., 0., 0.],\n",
       "        [0., 0., 0.],\n",
       "        ...,\n",
       "        [0., 0., 0.],\n",
       "        [0., 0., 0.],\n",
       "        [0., 0., 0.]]], dtype=float32)"
      ]
     },
     "execution_count": 34,
     "metadata": {},
     "output_type": "execute_result"
    }
   ],
   "source": [
    "x=image.img_to_array(img)\n",
    "x"
   ]
  },
  {
   "cell_type": "code",
   "execution_count": 35,
   "metadata": {},
   "outputs": [
    {
     "data": {
      "text/plain": [
       "(224, 224, 3)"
      ]
     },
     "execution_count": 35,
     "metadata": {},
     "output_type": "execute_result"
    }
   ],
   "source": [
    "x.shape"
   ]
  },
  {
   "cell_type": "code",
   "execution_count": 36,
   "metadata": {},
   "outputs": [],
   "source": [
    "x=x/255"
   ]
  },
  {
   "cell_type": "code",
   "execution_count": 37,
   "metadata": {},
   "outputs": [
    {
     "data": {
      "text/plain": [
       "(1, 224, 224, 3)"
      ]
     },
     "execution_count": 37,
     "metadata": {},
     "output_type": "execute_result"
    }
   ],
   "source": [
    "x=np.expand_dims(x,axis=0)\n",
    "img_data=preprocess_input(x)\n",
    "img_data.shape"
   ]
  },
  {
   "cell_type": "code",
   "execution_count": 38,
   "metadata": {},
   "outputs": [
    {
     "data": {
      "text/plain": [
       "array([[1., 0.]], dtype=float32)"
      ]
     },
     "execution_count": 38,
     "metadata": {},
     "output_type": "execute_result"
    }
   ],
   "source": [
    "model.predict(img_data)"
   ]
  },
  {
   "cell_type": "code",
   "execution_count": 39,
   "metadata": {},
   "outputs": [],
   "source": [
    "a=np.argmax(model.predict(img_data), axis=1)"
   ]
  },
  {
   "cell_type": "code",
   "execution_count": 40,
   "metadata": {},
   "outputs": [
    {
     "name": "stdout",
     "output_type": "stream",
     "text": [
      "Infected\n"
     ]
    }
   ],
   "source": [
    "if(a==1):\n",
    "    print(\"Uninfected\")\n",
    "else:\n",
    "    print(\"Infected\")"
   ]
  },
  {
   "cell_type": "code",
   "execution_count": null,
   "metadata": {},
   "outputs": [],
   "source": []
  },
  {
   "cell_type": "code",
   "execution_count": null,
   "metadata": {},
   "outputs": [],
   "source": []
  }
 ],
 "metadata": {
  "kernelspec": {
   "display_name": "Python 3",
   "language": "python",
   "name": "python3"
  },
  "language_info": {
   "codemirror_mode": {
    "name": "ipython",
    "version": 3
   },
   "file_extension": ".py",
   "mimetype": "text/x-python",
   "name": "python",
   "nbconvert_exporter": "python",
   "pygments_lexer": "ipython3",
   "version": "3.7.3"
  }
 },
 "nbformat": 4,
 "nbformat_minor": 2
}
